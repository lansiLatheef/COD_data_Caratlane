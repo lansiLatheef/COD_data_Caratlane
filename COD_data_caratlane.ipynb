{
  "nbformat": 4,
  "nbformat_minor": 0,
  "metadata": {
    "colab": {
      "provenance": []
    },
    "kernelspec": {
      "name": "python3",
      "display_name": "Python 3"
    },
    "language_info": {
      "name": "python"
    }
  },
  "cells": [
    {
      "cell_type": "code",
      "source": [
        "import numpy as np\n",
        "import pandas as pd\n",
        "import matplotlib.pyplot as plt\n",
        "import seaborn as sns\n",
        "import random"
      ],
      "metadata": {
        "id": "mmnjn-QuGh-A"
      },
      "execution_count": null,
      "outputs": []
    },
    {
      "cell_type": "code",
      "execution_count": null,
      "metadata": {
        "id": "CNEV2WEvGcyB"
      },
      "outputs": [],
      "source": [
        "from matplotlib.colors import ListedColormap, LinearSegmentedColormap"
      ]
    },
    {
      "cell_type": "code",
      "source": [
        "pip install plotly"
      ],
      "metadata": {
        "colab": {
          "base_uri": "https://localhost:8080/"
        },
        "id": "sDca5TwuGoYc",
        "outputId": "c26a8f67-d416-4b20-9d9b-3f03d4c96285"
      },
      "execution_count": null,
      "outputs": [
        {
          "output_type": "stream",
          "name": "stdout",
          "text": [
            "Looking in indexes: https://pypi.org/simple, https://us-python.pkg.dev/colab-wheels/public/simple/\n",
            "Requirement already satisfied: plotly in /usr/local/lib/python3.9/dist-packages (5.13.1)\n",
            "Requirement already satisfied: tenacity>=6.2.0 in /usr/local/lib/python3.9/dist-packages (from plotly) (8.2.2)\n"
          ]
        }
      ]
    },
    {
      "cell_type": "code",
      "source": [
        "pip install cufflinks"
      ],
      "metadata": {
        "colab": {
          "base_uri": "https://localhost:8080/"
        },
        "id": "Tk-ZlQl7Grv1",
        "outputId": "e840d948-1762-4809-c641-9b9e99ee7118"
      },
      "execution_count": null,
      "outputs": [
        {
          "output_type": "stream",
          "name": "stdout",
          "text": [
            "Looking in indexes: https://pypi.org/simple, https://us-python.pkg.dev/colab-wheels/public/simple/\n",
            "Requirement already satisfied: cufflinks in /usr/local/lib/python3.9/dist-packages (0.17.3)\n",
            "Requirement already satisfied: colorlover>=0.2.1 in /usr/local/lib/python3.9/dist-packages (from cufflinks) (0.3.0)\n",
            "Requirement already satisfied: pandas>=0.19.2 in /usr/local/lib/python3.9/dist-packages (from cufflinks) (1.4.4)\n",
            "Requirement already satisfied: six>=1.9.0 in /usr/local/lib/python3.9/dist-packages (from cufflinks) (1.16.0)\n",
            "Requirement already satisfied: ipython>=5.3.0 in /usr/local/lib/python3.9/dist-packages (from cufflinks) (7.9.0)\n",
            "Requirement already satisfied: numpy>=1.9.2 in /usr/local/lib/python3.9/dist-packages (from cufflinks) (1.22.4)\n",
            "Requirement already satisfied: plotly>=4.1.1 in /usr/local/lib/python3.9/dist-packages (from cufflinks) (5.13.1)\n",
            "Requirement already satisfied: ipywidgets>=7.0.0 in /usr/local/lib/python3.9/dist-packages (from cufflinks) (7.7.1)\n",
            "Requirement already satisfied: setuptools>=34.4.1 in /usr/local/lib/python3.9/dist-packages (from cufflinks) (67.6.0)\n",
            "Requirement already satisfied: traitlets>=4.2 in /usr/local/lib/python3.9/dist-packages (from ipython>=5.3.0->cufflinks) (5.7.1)\n",
            "Requirement already satisfied: backcall in /usr/local/lib/python3.9/dist-packages (from ipython>=5.3.0->cufflinks) (0.2.0)\n",
            "Requirement already satisfied: pygments in /usr/local/lib/python3.9/dist-packages (from ipython>=5.3.0->cufflinks) (2.14.0)\n",
            "Requirement already satisfied: pexpect in /usr/local/lib/python3.9/dist-packages (from ipython>=5.3.0->cufflinks) (4.8.0)\n",
            "Requirement already satisfied: pickleshare in /usr/local/lib/python3.9/dist-packages (from ipython>=5.3.0->cufflinks) (0.7.5)\n",
            "Requirement already satisfied: prompt-toolkit<2.1.0,>=2.0.0 in /usr/local/lib/python3.9/dist-packages (from ipython>=5.3.0->cufflinks) (2.0.10)\n",
            "Requirement already satisfied: decorator in /usr/local/lib/python3.9/dist-packages (from ipython>=5.3.0->cufflinks) (4.4.2)\n",
            "Collecting jedi>=0.10\n",
            "  Downloading jedi-0.18.2-py2.py3-none-any.whl (1.6 MB)\n",
            "\u001b[2K     \u001b[90m━━━━━━━━━━━━━━━━━━━━━━━━━━━━━━━━━━━━━━━━\u001b[0m \u001b[32m1.6/1.6 MB\u001b[0m \u001b[31m17.9 MB/s\u001b[0m eta \u001b[36m0:00:00\u001b[0m\n",
            "\u001b[?25hRequirement already satisfied: widgetsnbextension~=3.6.0 in /usr/local/lib/python3.9/dist-packages (from ipywidgets>=7.0.0->cufflinks) (3.6.3)\n",
            "Requirement already satisfied: ipykernel>=4.5.1 in /usr/local/lib/python3.9/dist-packages (from ipywidgets>=7.0.0->cufflinks) (5.3.4)\n",
            "Requirement already satisfied: ipython-genutils~=0.2.0 in /usr/local/lib/python3.9/dist-packages (from ipywidgets>=7.0.0->cufflinks) (0.2.0)\n",
            "Requirement already satisfied: jupyterlab-widgets>=1.0.0 in /usr/local/lib/python3.9/dist-packages (from ipywidgets>=7.0.0->cufflinks) (3.0.6)\n",
            "Requirement already satisfied: pytz>=2020.1 in /usr/local/lib/python3.9/dist-packages (from pandas>=0.19.2->cufflinks) (2022.7.1)\n",
            "Requirement already satisfied: python-dateutil>=2.8.1 in /usr/local/lib/python3.9/dist-packages (from pandas>=0.19.2->cufflinks) (2.8.2)\n",
            "Requirement already satisfied: tenacity>=6.2.0 in /usr/local/lib/python3.9/dist-packages (from plotly>=4.1.1->cufflinks) (8.2.2)\n",
            "Requirement already satisfied: jupyter-client in /usr/local/lib/python3.9/dist-packages (from ipykernel>=4.5.1->ipywidgets>=7.0.0->cufflinks) (6.1.12)\n",
            "Requirement already satisfied: tornado>=4.2 in /usr/local/lib/python3.9/dist-packages (from ipykernel>=4.5.1->ipywidgets>=7.0.0->cufflinks) (6.2)\n",
            "Requirement already satisfied: parso<0.9.0,>=0.8.0 in /usr/local/lib/python3.9/dist-packages (from jedi>=0.10->ipython>=5.3.0->cufflinks) (0.8.3)\n",
            "Requirement already satisfied: wcwidth in /usr/local/lib/python3.9/dist-packages (from prompt-toolkit<2.1.0,>=2.0.0->ipython>=5.3.0->cufflinks) (0.2.6)\n",
            "Requirement already satisfied: notebook>=4.4.1 in /usr/local/lib/python3.9/dist-packages (from widgetsnbextension~=3.6.0->ipywidgets>=7.0.0->cufflinks) (6.3.0)\n",
            "Requirement already satisfied: ptyprocess>=0.5 in /usr/local/lib/python3.9/dist-packages (from pexpect->ipython>=5.3.0->cufflinks) (0.7.0)\n",
            "Requirement already satisfied: terminado>=0.8.3 in /usr/local/lib/python3.9/dist-packages (from notebook>=4.4.1->widgetsnbextension~=3.6.0->ipywidgets>=7.0.0->cufflinks) (0.17.1)\n",
            "Requirement already satisfied: prometheus-client in /usr/local/lib/python3.9/dist-packages (from notebook>=4.4.1->widgetsnbextension~=3.6.0->ipywidgets>=7.0.0->cufflinks) (0.16.0)\n",
            "Requirement already satisfied: nbconvert in /usr/local/lib/python3.9/dist-packages (from notebook>=4.4.1->widgetsnbextension~=3.6.0->ipywidgets>=7.0.0->cufflinks) (6.5.4)\n",
            "Requirement already satisfied: nbformat in /usr/local/lib/python3.9/dist-packages (from notebook>=4.4.1->widgetsnbextension~=3.6.0->ipywidgets>=7.0.0->cufflinks) (5.8.0)\n",
            "Requirement already satisfied: argon2-cffi in /usr/local/lib/python3.9/dist-packages (from notebook>=4.4.1->widgetsnbextension~=3.6.0->ipywidgets>=7.0.0->cufflinks) (21.3.0)\n",
            "Requirement already satisfied: jupyter-core>=4.6.1 in /usr/local/lib/python3.9/dist-packages (from notebook>=4.4.1->widgetsnbextension~=3.6.0->ipywidgets>=7.0.0->cufflinks) (5.3.0)\n",
            "Requirement already satisfied: jinja2 in /usr/local/lib/python3.9/dist-packages (from notebook>=4.4.1->widgetsnbextension~=3.6.0->ipywidgets>=7.0.0->cufflinks) (3.1.2)\n",
            "Requirement already satisfied: Send2Trash>=1.5.0 in /usr/local/lib/python3.9/dist-packages (from notebook>=4.4.1->widgetsnbextension~=3.6.0->ipywidgets>=7.0.0->cufflinks) (1.8.0)\n",
            "Requirement already satisfied: pyzmq>=17 in /usr/local/lib/python3.9/dist-packages (from notebook>=4.4.1->widgetsnbextension~=3.6.0->ipywidgets>=7.0.0->cufflinks) (23.2.1)\n",
            "Requirement already satisfied: platformdirs>=2.5 in /usr/local/lib/python3.9/dist-packages (from jupyter-core>=4.6.1->notebook>=4.4.1->widgetsnbextension~=3.6.0->ipywidgets>=7.0.0->cufflinks) (3.1.1)\n",
            "Requirement already satisfied: argon2-cffi-bindings in /usr/local/lib/python3.9/dist-packages (from argon2-cffi->notebook>=4.4.1->widgetsnbextension~=3.6.0->ipywidgets>=7.0.0->cufflinks) (21.2.0)\n",
            "Requirement already satisfied: MarkupSafe>=2.0 in /usr/local/lib/python3.9/dist-packages (from jinja2->notebook>=4.4.1->widgetsnbextension~=3.6.0->ipywidgets>=7.0.0->cufflinks) (2.1.2)\n",
            "Requirement already satisfied: beautifulsoup4 in /usr/local/lib/python3.9/dist-packages (from nbconvert->notebook>=4.4.1->widgetsnbextension~=3.6.0->ipywidgets>=7.0.0->cufflinks) (4.11.2)\n",
            "Requirement already satisfied: defusedxml in /usr/local/lib/python3.9/dist-packages (from nbconvert->notebook>=4.4.1->widgetsnbextension~=3.6.0->ipywidgets>=7.0.0->cufflinks) (0.7.1)\n",
            "Requirement already satisfied: tinycss2 in /usr/local/lib/python3.9/dist-packages (from nbconvert->notebook>=4.4.1->widgetsnbextension~=3.6.0->ipywidgets>=7.0.0->cufflinks) (1.2.1)\n",
            "Requirement already satisfied: bleach in /usr/local/lib/python3.9/dist-packages (from nbconvert->notebook>=4.4.1->widgetsnbextension~=3.6.0->ipywidgets>=7.0.0->cufflinks) (6.0.0)\n",
            "Requirement already satisfied: nbclient>=0.5.0 in /usr/local/lib/python3.9/dist-packages (from nbconvert->notebook>=4.4.1->widgetsnbextension~=3.6.0->ipywidgets>=7.0.0->cufflinks) (0.7.2)\n",
            "Requirement already satisfied: entrypoints>=0.2.2 in /usr/local/lib/python3.9/dist-packages (from nbconvert->notebook>=4.4.1->widgetsnbextension~=3.6.0->ipywidgets>=7.0.0->cufflinks) (0.4)\n",
            "Requirement already satisfied: lxml in /usr/local/lib/python3.9/dist-packages (from nbconvert->notebook>=4.4.1->widgetsnbextension~=3.6.0->ipywidgets>=7.0.0->cufflinks) (4.9.2)\n",
            "Requirement already satisfied: packaging in /usr/local/lib/python3.9/dist-packages (from nbconvert->notebook>=4.4.1->widgetsnbextension~=3.6.0->ipywidgets>=7.0.0->cufflinks) (23.0)\n",
            "Requirement already satisfied: mistune<2,>=0.8.1 in /usr/local/lib/python3.9/dist-packages (from nbconvert->notebook>=4.4.1->widgetsnbextension~=3.6.0->ipywidgets>=7.0.0->cufflinks) (0.8.4)\n",
            "Requirement already satisfied: pandocfilters>=1.4.1 in /usr/local/lib/python3.9/dist-packages (from nbconvert->notebook>=4.4.1->widgetsnbextension~=3.6.0->ipywidgets>=7.0.0->cufflinks) (1.5.0)\n",
            "Requirement already satisfied: jupyterlab-pygments in /usr/local/lib/python3.9/dist-packages (from nbconvert->notebook>=4.4.1->widgetsnbextension~=3.6.0->ipywidgets>=7.0.0->cufflinks) (0.2.2)\n",
            "Requirement already satisfied: jsonschema>=2.6 in /usr/local/lib/python3.9/dist-packages (from nbformat->notebook>=4.4.1->widgetsnbextension~=3.6.0->ipywidgets>=7.0.0->cufflinks) (4.3.3)\n",
            "Requirement already satisfied: fastjsonschema in /usr/local/lib/python3.9/dist-packages (from nbformat->notebook>=4.4.1->widgetsnbextension~=3.6.0->ipywidgets>=7.0.0->cufflinks) (2.16.3)\n",
            "Requirement already satisfied: pyrsistent!=0.17.0,!=0.17.1,!=0.17.2,>=0.14.0 in /usr/local/lib/python3.9/dist-packages (from jsonschema>=2.6->nbformat->notebook>=4.4.1->widgetsnbextension~=3.6.0->ipywidgets>=7.0.0->cufflinks) (0.19.3)\n",
            "Requirement already satisfied: attrs>=17.4.0 in /usr/local/lib/python3.9/dist-packages (from jsonschema>=2.6->nbformat->notebook>=4.4.1->widgetsnbextension~=3.6.0->ipywidgets>=7.0.0->cufflinks) (22.2.0)\n",
            "Requirement already satisfied: cffi>=1.0.1 in /usr/local/lib/python3.9/dist-packages (from argon2-cffi-bindings->argon2-cffi->notebook>=4.4.1->widgetsnbextension~=3.6.0->ipywidgets>=7.0.0->cufflinks) (1.15.1)\n",
            "Requirement already satisfied: soupsieve>1.2 in /usr/local/lib/python3.9/dist-packages (from beautifulsoup4->nbconvert->notebook>=4.4.1->widgetsnbextension~=3.6.0->ipywidgets>=7.0.0->cufflinks) (2.4)\n",
            "Requirement already satisfied: webencodings in /usr/local/lib/python3.9/dist-packages (from bleach->nbconvert->notebook>=4.4.1->widgetsnbextension~=3.6.0->ipywidgets>=7.0.0->cufflinks) (0.5.1)\n",
            "Requirement already satisfied: pycparser in /usr/local/lib/python3.9/dist-packages (from cffi>=1.0.1->argon2-cffi-bindings->argon2-cffi->notebook>=4.4.1->widgetsnbextension~=3.6.0->ipywidgets>=7.0.0->cufflinks) (2.21)\n",
            "Installing collected packages: jedi\n",
            "Successfully installed jedi-0.18.2\n"
          ]
        }
      ]
    },
    {
      "cell_type": "code",
      "source": [
        "from plotly import __version__\n",
        "from plotly.offline import download_plotlyjs, init_notebook_mode, plot, iplot\n",
        "print(__version__)"
      ],
      "metadata": {
        "colab": {
          "base_uri": "https://localhost:8080/"
        },
        "id": "-mMFC5t1Gycb",
        "outputId": "16f3162f-12d6-44e8-cde8-c90f1d21044e"
      },
      "execution_count": null,
      "outputs": [
        {
          "output_type": "stream",
          "name": "stdout",
          "text": [
            "5.13.1\n"
          ]
        }
      ]
    },
    {
      "cell_type": "code",
      "source": [
        "import cufflinks as cf"
      ],
      "metadata": {
        "id": "RkvZG7bzHGcs"
      },
      "execution_count": null,
      "outputs": []
    },
    {
      "cell_type": "code",
      "source": [
        "cf.go_offline(connected=True)\n",
        "cf.set_config_file(offline=False, world_readable=True)"
      ],
      "metadata": {
        "colab": {
          "base_uri": "https://localhost:8080/",
          "height": 17
        },
        "id": "lEeXgTItHIvp",
        "outputId": "fdb2d6bf-15a9-4753-cad4-90286651b4f6"
      },
      "execution_count": null,
      "outputs": [
        {
          "output_type": "display_data",
          "data": {
            "text/html": [
              "        <script type=\"text/javascript\">\n",
              "        window.PlotlyConfig = {MathJaxConfig: 'local'};\n",
              "        if (window.MathJax && window.MathJax.Hub && window.MathJax.Hub.Config) {window.MathJax.Hub.Config({SVG: {font: \"STIX-Web\"}});}\n",
              "        if (typeof require !== 'undefined') {\n",
              "        require.undef(\"plotly\");\n",
              "        requirejs.config({\n",
              "            paths: {\n",
              "                'plotly': ['https://cdn.plot.ly/plotly-2.18.2.min']\n",
              "            }\n",
              "        });\n",
              "        require(['plotly'], function(Plotly) {\n",
              "            window._Plotly = Plotly;\n",
              "        });\n",
              "        }\n",
              "        </script>\n",
              "        "
            ]
          },
          "metadata": {}
        }
      ]
    },
    {
      "cell_type": "markdown",
      "source": [
        "import excel in colab as dataframe"
      ],
      "metadata": {
        "id": "ecKnWBfZHP4t"
      }
    },
    {
      "cell_type": "code",
      "source": [
        "#importing file\n",
        "df = pd.read_excel('/COD_Data.xlsx')"
      ],
      "metadata": {
        "id": "ymY-MvPfIPh8"
      },
      "execution_count": null,
      "outputs": []
    },
    {
      "cell_type": "code",
      "source": [
        "df.head(5)"
      ],
      "metadata": {
        "colab": {
          "base_uri": "https://localhost:8080/",
          "height": 354
        },
        "id": "s5VKLe7yPJQG",
        "outputId": "64caf389-5c86-453a-e931-afcbcd62ebeb"
      },
      "execution_count": null,
      "outputs": [
        {
          "output_type": "execute_result",
          "data": {
            "text/plain": [
              "   Order Date  Dispatch Date  Recd Date Order #         Customer  \\\n",
              "0       42321          42326      42339     DF1    suvidhi ahuja   \n",
              "1       42327          42327      42339     Y51    Dr Anju Verma   \n",
              "2       42307          42317      42339     CED            richa   \n",
              "3       42323          42335      42339     N27      Seema batra   \n",
              "4       42323          42335      42339     N27  Shrishti Gulati   \n",
              "\n",
              "              SKU    Channel Pin Code     Product Category Product Type  \\\n",
              "0  UP00016-YG0000  Blue Dart   411040  Unstudded Jewellery      Pendant   \n",
              "1  GC00032-2Y0000  Delhivery   389151            Gold Coin    Gold Coin   \n",
              "2  JP00200-YGP900        HUB   600042    Studded Jewellery      Pendant   \n",
              "3  JN02829-YGP900        HUB   400066    Studded Jewellery     Nose Pin   \n",
              "4  JT02891-YGP900        HUB   400066    Studded Jewellery    Bracelet    \n",
              "\n",
              "                         Reason         Category  \n",
              "0  Customer cancelled the order        Cancelled  \n",
              "1    Customer is not responding      No Response  \n",
              "2        Bracelet is very tight  Product Quality  \n",
              "3    Customer refused to accept          Refused  \n",
              "4    Customer refused to accept          Refused  "
            ],
            "text/html": [
              "\n",
              "  <div id=\"df-3c14b17a-4267-4049-971e-088c0e69641f\">\n",
              "    <div class=\"colab-df-container\">\n",
              "      <div>\n",
              "<style scoped>\n",
              "    .dataframe tbody tr th:only-of-type {\n",
              "        vertical-align: middle;\n",
              "    }\n",
              "\n",
              "    .dataframe tbody tr th {\n",
              "        vertical-align: top;\n",
              "    }\n",
              "\n",
              "    .dataframe thead th {\n",
              "        text-align: right;\n",
              "    }\n",
              "</style>\n",
              "<table border=\"1\" class=\"dataframe\">\n",
              "  <thead>\n",
              "    <tr style=\"text-align: right;\">\n",
              "      <th></th>\n",
              "      <th>Order Date</th>\n",
              "      <th>Dispatch Date</th>\n",
              "      <th>Recd Date</th>\n",
              "      <th>Order #</th>\n",
              "      <th>Customer</th>\n",
              "      <th>SKU</th>\n",
              "      <th>Channel</th>\n",
              "      <th>Pin Code</th>\n",
              "      <th>Product Category</th>\n",
              "      <th>Product Type</th>\n",
              "      <th>Reason</th>\n",
              "      <th>Category</th>\n",
              "    </tr>\n",
              "  </thead>\n",
              "  <tbody>\n",
              "    <tr>\n",
              "      <th>0</th>\n",
              "      <td>42321</td>\n",
              "      <td>42326</td>\n",
              "      <td>42339</td>\n",
              "      <td>DF1</td>\n",
              "      <td>suvidhi ahuja</td>\n",
              "      <td>UP00016-YG0000</td>\n",
              "      <td>Blue Dart</td>\n",
              "      <td>411040</td>\n",
              "      <td>Unstudded Jewellery</td>\n",
              "      <td>Pendant</td>\n",
              "      <td>Customer cancelled the order</td>\n",
              "      <td>Cancelled</td>\n",
              "    </tr>\n",
              "    <tr>\n",
              "      <th>1</th>\n",
              "      <td>42327</td>\n",
              "      <td>42327</td>\n",
              "      <td>42339</td>\n",
              "      <td>Y51</td>\n",
              "      <td>Dr Anju Verma</td>\n",
              "      <td>GC00032-2Y0000</td>\n",
              "      <td>Delhivery</td>\n",
              "      <td>389151</td>\n",
              "      <td>Gold Coin</td>\n",
              "      <td>Gold Coin</td>\n",
              "      <td>Customer is not responding</td>\n",
              "      <td>No Response</td>\n",
              "    </tr>\n",
              "    <tr>\n",
              "      <th>2</th>\n",
              "      <td>42307</td>\n",
              "      <td>42317</td>\n",
              "      <td>42339</td>\n",
              "      <td>CED</td>\n",
              "      <td>richa</td>\n",
              "      <td>JP00200-YGP900</td>\n",
              "      <td>HUB</td>\n",
              "      <td>600042</td>\n",
              "      <td>Studded Jewellery</td>\n",
              "      <td>Pendant</td>\n",
              "      <td>Bracelet is very tight</td>\n",
              "      <td>Product Quality</td>\n",
              "    </tr>\n",
              "    <tr>\n",
              "      <th>3</th>\n",
              "      <td>42323</td>\n",
              "      <td>42335</td>\n",
              "      <td>42339</td>\n",
              "      <td>N27</td>\n",
              "      <td>Seema batra</td>\n",
              "      <td>JN02829-YGP900</td>\n",
              "      <td>HUB</td>\n",
              "      <td>400066</td>\n",
              "      <td>Studded Jewellery</td>\n",
              "      <td>Nose Pin</td>\n",
              "      <td>Customer refused to accept</td>\n",
              "      <td>Refused</td>\n",
              "    </tr>\n",
              "    <tr>\n",
              "      <th>4</th>\n",
              "      <td>42323</td>\n",
              "      <td>42335</td>\n",
              "      <td>42339</td>\n",
              "      <td>N27</td>\n",
              "      <td>Shrishti Gulati</td>\n",
              "      <td>JT02891-YGP900</td>\n",
              "      <td>HUB</td>\n",
              "      <td>400066</td>\n",
              "      <td>Studded Jewellery</td>\n",
              "      <td>Bracelet</td>\n",
              "      <td>Customer refused to accept</td>\n",
              "      <td>Refused</td>\n",
              "    </tr>\n",
              "  </tbody>\n",
              "</table>\n",
              "</div>\n",
              "      <button class=\"colab-df-convert\" onclick=\"convertToInteractive('df-3c14b17a-4267-4049-971e-088c0e69641f')\"\n",
              "              title=\"Convert this dataframe to an interactive table.\"\n",
              "              style=\"display:none;\">\n",
              "        \n",
              "  <svg xmlns=\"http://www.w3.org/2000/svg\" height=\"24px\"viewBox=\"0 0 24 24\"\n",
              "       width=\"24px\">\n",
              "    <path d=\"M0 0h24v24H0V0z\" fill=\"none\"/>\n",
              "    <path d=\"M18.56 5.44l.94 2.06.94-2.06 2.06-.94-2.06-.94-.94-2.06-.94 2.06-2.06.94zm-11 1L8.5 8.5l.94-2.06 2.06-.94-2.06-.94L8.5 2.5l-.94 2.06-2.06.94zm10 10l.94 2.06.94-2.06 2.06-.94-2.06-.94-.94-2.06-.94 2.06-2.06.94z\"/><path d=\"M17.41 7.96l-1.37-1.37c-.4-.4-.92-.59-1.43-.59-.52 0-1.04.2-1.43.59L10.3 9.45l-7.72 7.72c-.78.78-.78 2.05 0 2.83L4 21.41c.39.39.9.59 1.41.59.51 0 1.02-.2 1.41-.59l7.78-7.78 2.81-2.81c.8-.78.8-2.07 0-2.86zM5.41 20L4 18.59l7.72-7.72 1.47 1.35L5.41 20z\"/>\n",
              "  </svg>\n",
              "      </button>\n",
              "      \n",
              "  <style>\n",
              "    .colab-df-container {\n",
              "      display:flex;\n",
              "      flex-wrap:wrap;\n",
              "      gap: 12px;\n",
              "    }\n",
              "\n",
              "    .colab-df-convert {\n",
              "      background-color: #E8F0FE;\n",
              "      border: none;\n",
              "      border-radius: 50%;\n",
              "      cursor: pointer;\n",
              "      display: none;\n",
              "      fill: #1967D2;\n",
              "      height: 32px;\n",
              "      padding: 0 0 0 0;\n",
              "      width: 32px;\n",
              "    }\n",
              "\n",
              "    .colab-df-convert:hover {\n",
              "      background-color: #E2EBFA;\n",
              "      box-shadow: 0px 1px 2px rgba(60, 64, 67, 0.3), 0px 1px 3px 1px rgba(60, 64, 67, 0.15);\n",
              "      fill: #174EA6;\n",
              "    }\n",
              "\n",
              "    [theme=dark] .colab-df-convert {\n",
              "      background-color: #3B4455;\n",
              "      fill: #D2E3FC;\n",
              "    }\n",
              "\n",
              "    [theme=dark] .colab-df-convert:hover {\n",
              "      background-color: #434B5C;\n",
              "      box-shadow: 0px 1px 3px 1px rgba(0, 0, 0, 0.15);\n",
              "      filter: drop-shadow(0px 1px 2px rgba(0, 0, 0, 0.3));\n",
              "      fill: #FFFFFF;\n",
              "    }\n",
              "  </style>\n",
              "\n",
              "      <script>\n",
              "        const buttonEl =\n",
              "          document.querySelector('#df-3c14b17a-4267-4049-971e-088c0e69641f button.colab-df-convert');\n",
              "        buttonEl.style.display =\n",
              "          google.colab.kernel.accessAllowed ? 'block' : 'none';\n",
              "\n",
              "        async function convertToInteractive(key) {\n",
              "          const element = document.querySelector('#df-3c14b17a-4267-4049-971e-088c0e69641f');\n",
              "          const dataTable =\n",
              "            await google.colab.kernel.invokeFunction('convertToInteractive',\n",
              "                                                     [key], {});\n",
              "          if (!dataTable) return;\n",
              "\n",
              "          const docLinkHtml = 'Like what you see? Visit the ' +\n",
              "            '<a target=\"_blank\" href=https://colab.research.google.com/notebooks/data_table.ipynb>data table notebook</a>'\n",
              "            + ' to learn more about interactive tables.';\n",
              "          element.innerHTML = '';\n",
              "          dataTable['output_type'] = 'display_data';\n",
              "          await google.colab.output.renderOutput(dataTable, element);\n",
              "          const docLink = document.createElement('div');\n",
              "          docLink.innerHTML = docLinkHtml;\n",
              "          element.appendChild(docLink);\n",
              "        }\n",
              "      </script>\n",
              "    </div>\n",
              "  </div>\n",
              "  "
            ]
          },
          "metadata": {},
          "execution_count": 10
        }
      ]
    },
    {
      "cell_type": "code",
      "source": [
        "df.shape"
      ],
      "metadata": {
        "colab": {
          "base_uri": "https://localhost:8080/"
        },
        "id": "WhidOn6BIY7p",
        "outputId": "13369ff6-9a4d-4ce2-fecd-e215bceb6e79"
      },
      "execution_count": null,
      "outputs": [
        {
          "output_type": "execute_result",
          "data": {
            "text/plain": [
              "(960, 12)"
            ]
          },
          "metadata": {},
          "execution_count": 11
        }
      ]
    },
    {
      "cell_type": "code",
      "source": [
        "#checking basic info of df\n",
        "df.info()"
      ],
      "metadata": {
        "colab": {
          "base_uri": "https://localhost:8080/"
        },
        "id": "_0v7jkTFLYO0",
        "outputId": "29750027-4f2f-4784-bae9-753104cf1e0e"
      },
      "execution_count": null,
      "outputs": [
        {
          "output_type": "stream",
          "name": "stdout",
          "text": [
            "<class 'pandas.core.frame.DataFrame'>\n",
            "RangeIndex: 960 entries, 0 to 959\n",
            "Data columns (total 12 columns):\n",
            " #   Column            Non-Null Count  Dtype \n",
            "---  ------            --------------  ----- \n",
            " 0   Order Date        960 non-null    int64 \n",
            " 1   Dispatch Date     960 non-null    int64 \n",
            " 2   Recd Date         960 non-null    int64 \n",
            " 3   Order #           960 non-null    object\n",
            " 4   Customer          960 non-null    object\n",
            " 5   SKU               960 non-null    object\n",
            " 6   Channel           960 non-null    object\n",
            " 7   Pin Code          948 non-null    object\n",
            " 8   Product Category  960 non-null    object\n",
            " 9   Product Type      960 non-null    object\n",
            " 10  Reason            960 non-null    object\n",
            " 11  Category          960 non-null    object\n",
            "dtypes: int64(3), object(9)\n",
            "memory usage: 90.1+ KB\n"
          ]
        }
      ]
    },
    {
      "cell_type": "markdown",
      "source": [
        "DATA CLEANING"
      ],
      "metadata": {
        "id": "DBIiid3qH37C"
      }
    },
    {
      "cell_type": "code",
      "source": [
        "#checking no of null values in each row\n",
        "df.isnull().sum()"
      ],
      "metadata": {
        "colab": {
          "base_uri": "https://localhost:8080/"
        },
        "id": "N_GSsCkyL-aw",
        "outputId": "e6148d19-03a5-4984-d1b2-3ae5c90d9af3"
      },
      "execution_count": null,
      "outputs": [
        {
          "output_type": "execute_result",
          "data": {
            "text/plain": [
              "Order Date           0\n",
              "Dispatch Date        0\n",
              "Recd Date            0\n",
              "Order #              0\n",
              "Customer             0\n",
              "SKU                  0\n",
              "Channel              0\n",
              "Pin Code            12\n",
              "Product Category     0\n",
              "Product Type         0\n",
              "Reason               0\n",
              "Category             0\n",
              "dtype: int64"
            ]
          },
          "metadata": {},
          "execution_count": 13
        }
      ]
    },
    {
      "cell_type": "code",
      "source": [
        "#deleting rows for which pincode is not available\n",
        "pin_na =df['Pin Code'].isna()\n",
        "to_drop = df[pin_na].index\n",
        "df1 = df.drop(to_drop, axis=0)"
      ],
      "metadata": {
        "id": "hV6vfCKNH5-8"
      },
      "execution_count": null,
      "outputs": []
    },
    {
      "cell_type": "code",
      "source": [
        "df1.shape"
      ],
      "metadata": {
        "colab": {
          "base_uri": "https://localhost:8080/"
        },
        "id": "PhVdi-HPJCcr",
        "outputId": "5362fc47-58ff-48c6-d450-1d8045bce2b3"
      },
      "execution_count": null,
      "outputs": [
        {
          "output_type": "execute_result",
          "data": {
            "text/plain": [
              "(948, 12)"
            ]
          },
          "metadata": {},
          "execution_count": 15
        }
      ]
    },
    {
      "cell_type": "code",
      "source": [
        "#Finding no. of days took for delivery\n",
        "df1['Total_days'] = (df['Recd Date']-df['Order Date'])\n",
        "df1['days_for_dispatch'] = (df['Dispatch Date']-df['Order Date'])\n",
        "df1['days_for_delivery'] = (df['Recd Date']-df['Dispatch Date'])\n",
        "df2 = df1.drop(['Order Date','Dispatch Date','Recd Date'], axis=1)"
      ],
      "metadata": {
        "id": "8wo0AmCPjhf5"
      },
      "execution_count": null,
      "outputs": []
    },
    {
      "cell_type": "code",
      "source": [
        "df2.head(5)"
      ],
      "metadata": {
        "colab": {
          "base_uri": "https://localhost:8080/",
          "height": 354
        },
        "id": "w8ZIKPCT7p1u",
        "outputId": "7d424d2d-4a4f-4099-8bd0-215289fed1c6"
      },
      "execution_count": null,
      "outputs": [
        {
          "output_type": "execute_result",
          "data": {
            "text/plain": [
              "  Order #         Customer             SKU    Channel Pin Code  \\\n",
              "0     DF1    suvidhi ahuja  UP00016-YG0000  Blue Dart   411040   \n",
              "1     Y51    Dr Anju Verma  GC00032-2Y0000  Delhivery   389151   \n",
              "2     CED            richa  JP00200-YGP900        HUB   600042   \n",
              "3     N27      Seema batra  JN02829-YGP900        HUB   400066   \n",
              "4     N27  Shrishti Gulati  JT02891-YGP900        HUB   400066   \n",
              "\n",
              "      Product Category Product Type                        Reason  \\\n",
              "0  Unstudded Jewellery      Pendant  Customer cancelled the order   \n",
              "1            Gold Coin    Gold Coin    Customer is not responding   \n",
              "2    Studded Jewellery      Pendant        Bracelet is very tight   \n",
              "3    Studded Jewellery     Nose Pin    Customer refused to accept   \n",
              "4    Studded Jewellery    Bracelet     Customer refused to accept   \n",
              "\n",
              "          Category  Total_days  days_for_dispatch  days_for_delivery  \n",
              "0        Cancelled          18                  5                 13  \n",
              "1      No Response          12                  0                 12  \n",
              "2  Product Quality          32                 10                 22  \n",
              "3          Refused          16                 12                  4  \n",
              "4          Refused          16                 12                  4  "
            ],
            "text/html": [
              "\n",
              "  <div id=\"df-93b46a79-c509-4304-b2cc-0c3a9fcbaf04\">\n",
              "    <div class=\"colab-df-container\">\n",
              "      <div>\n",
              "<style scoped>\n",
              "    .dataframe tbody tr th:only-of-type {\n",
              "        vertical-align: middle;\n",
              "    }\n",
              "\n",
              "    .dataframe tbody tr th {\n",
              "        vertical-align: top;\n",
              "    }\n",
              "\n",
              "    .dataframe thead th {\n",
              "        text-align: right;\n",
              "    }\n",
              "</style>\n",
              "<table border=\"1\" class=\"dataframe\">\n",
              "  <thead>\n",
              "    <tr style=\"text-align: right;\">\n",
              "      <th></th>\n",
              "      <th>Order #</th>\n",
              "      <th>Customer</th>\n",
              "      <th>SKU</th>\n",
              "      <th>Channel</th>\n",
              "      <th>Pin Code</th>\n",
              "      <th>Product Category</th>\n",
              "      <th>Product Type</th>\n",
              "      <th>Reason</th>\n",
              "      <th>Category</th>\n",
              "      <th>Total_days</th>\n",
              "      <th>days_for_dispatch</th>\n",
              "      <th>days_for_delivery</th>\n",
              "    </tr>\n",
              "  </thead>\n",
              "  <tbody>\n",
              "    <tr>\n",
              "      <th>0</th>\n",
              "      <td>DF1</td>\n",
              "      <td>suvidhi ahuja</td>\n",
              "      <td>UP00016-YG0000</td>\n",
              "      <td>Blue Dart</td>\n",
              "      <td>411040</td>\n",
              "      <td>Unstudded Jewellery</td>\n",
              "      <td>Pendant</td>\n",
              "      <td>Customer cancelled the order</td>\n",
              "      <td>Cancelled</td>\n",
              "      <td>18</td>\n",
              "      <td>5</td>\n",
              "      <td>13</td>\n",
              "    </tr>\n",
              "    <tr>\n",
              "      <th>1</th>\n",
              "      <td>Y51</td>\n",
              "      <td>Dr Anju Verma</td>\n",
              "      <td>GC00032-2Y0000</td>\n",
              "      <td>Delhivery</td>\n",
              "      <td>389151</td>\n",
              "      <td>Gold Coin</td>\n",
              "      <td>Gold Coin</td>\n",
              "      <td>Customer is not responding</td>\n",
              "      <td>No Response</td>\n",
              "      <td>12</td>\n",
              "      <td>0</td>\n",
              "      <td>12</td>\n",
              "    </tr>\n",
              "    <tr>\n",
              "      <th>2</th>\n",
              "      <td>CED</td>\n",
              "      <td>richa</td>\n",
              "      <td>JP00200-YGP900</td>\n",
              "      <td>HUB</td>\n",
              "      <td>600042</td>\n",
              "      <td>Studded Jewellery</td>\n",
              "      <td>Pendant</td>\n",
              "      <td>Bracelet is very tight</td>\n",
              "      <td>Product Quality</td>\n",
              "      <td>32</td>\n",
              "      <td>10</td>\n",
              "      <td>22</td>\n",
              "    </tr>\n",
              "    <tr>\n",
              "      <th>3</th>\n",
              "      <td>N27</td>\n",
              "      <td>Seema batra</td>\n",
              "      <td>JN02829-YGP900</td>\n",
              "      <td>HUB</td>\n",
              "      <td>400066</td>\n",
              "      <td>Studded Jewellery</td>\n",
              "      <td>Nose Pin</td>\n",
              "      <td>Customer refused to accept</td>\n",
              "      <td>Refused</td>\n",
              "      <td>16</td>\n",
              "      <td>12</td>\n",
              "      <td>4</td>\n",
              "    </tr>\n",
              "    <tr>\n",
              "      <th>4</th>\n",
              "      <td>N27</td>\n",
              "      <td>Shrishti Gulati</td>\n",
              "      <td>JT02891-YGP900</td>\n",
              "      <td>HUB</td>\n",
              "      <td>400066</td>\n",
              "      <td>Studded Jewellery</td>\n",
              "      <td>Bracelet</td>\n",
              "      <td>Customer refused to accept</td>\n",
              "      <td>Refused</td>\n",
              "      <td>16</td>\n",
              "      <td>12</td>\n",
              "      <td>4</td>\n",
              "    </tr>\n",
              "  </tbody>\n",
              "</table>\n",
              "</div>\n",
              "      <button class=\"colab-df-convert\" onclick=\"convertToInteractive('df-93b46a79-c509-4304-b2cc-0c3a9fcbaf04')\"\n",
              "              title=\"Convert this dataframe to an interactive table.\"\n",
              "              style=\"display:none;\">\n",
              "        \n",
              "  <svg xmlns=\"http://www.w3.org/2000/svg\" height=\"24px\"viewBox=\"0 0 24 24\"\n",
              "       width=\"24px\">\n",
              "    <path d=\"M0 0h24v24H0V0z\" fill=\"none\"/>\n",
              "    <path d=\"M18.56 5.44l.94 2.06.94-2.06 2.06-.94-2.06-.94-.94-2.06-.94 2.06-2.06.94zm-11 1L8.5 8.5l.94-2.06 2.06-.94-2.06-.94L8.5 2.5l-.94 2.06-2.06.94zm10 10l.94 2.06.94-2.06 2.06-.94-2.06-.94-.94-2.06-.94 2.06-2.06.94z\"/><path d=\"M17.41 7.96l-1.37-1.37c-.4-.4-.92-.59-1.43-.59-.52 0-1.04.2-1.43.59L10.3 9.45l-7.72 7.72c-.78.78-.78 2.05 0 2.83L4 21.41c.39.39.9.59 1.41.59.51 0 1.02-.2 1.41-.59l7.78-7.78 2.81-2.81c.8-.78.8-2.07 0-2.86zM5.41 20L4 18.59l7.72-7.72 1.47 1.35L5.41 20z\"/>\n",
              "  </svg>\n",
              "      </button>\n",
              "      \n",
              "  <style>\n",
              "    .colab-df-container {\n",
              "      display:flex;\n",
              "      flex-wrap:wrap;\n",
              "      gap: 12px;\n",
              "    }\n",
              "\n",
              "    .colab-df-convert {\n",
              "      background-color: #E8F0FE;\n",
              "      border: none;\n",
              "      border-radius: 50%;\n",
              "      cursor: pointer;\n",
              "      display: none;\n",
              "      fill: #1967D2;\n",
              "      height: 32px;\n",
              "      padding: 0 0 0 0;\n",
              "      width: 32px;\n",
              "    }\n",
              "\n",
              "    .colab-df-convert:hover {\n",
              "      background-color: #E2EBFA;\n",
              "      box-shadow: 0px 1px 2px rgba(60, 64, 67, 0.3), 0px 1px 3px 1px rgba(60, 64, 67, 0.15);\n",
              "      fill: #174EA6;\n",
              "    }\n",
              "\n",
              "    [theme=dark] .colab-df-convert {\n",
              "      background-color: #3B4455;\n",
              "      fill: #D2E3FC;\n",
              "    }\n",
              "\n",
              "    [theme=dark] .colab-df-convert:hover {\n",
              "      background-color: #434B5C;\n",
              "      box-shadow: 0px 1px 3px 1px rgba(0, 0, 0, 0.15);\n",
              "      filter: drop-shadow(0px 1px 2px rgba(0, 0, 0, 0.3));\n",
              "      fill: #FFFFFF;\n",
              "    }\n",
              "  </style>\n",
              "\n",
              "      <script>\n",
              "        const buttonEl =\n",
              "          document.querySelector('#df-93b46a79-c509-4304-b2cc-0c3a9fcbaf04 button.colab-df-convert');\n",
              "        buttonEl.style.display =\n",
              "          google.colab.kernel.accessAllowed ? 'block' : 'none';\n",
              "\n",
              "        async function convertToInteractive(key) {\n",
              "          const element = document.querySelector('#df-93b46a79-c509-4304-b2cc-0c3a9fcbaf04');\n",
              "          const dataTable =\n",
              "            await google.colab.kernel.invokeFunction('convertToInteractive',\n",
              "                                                     [key], {});\n",
              "          if (!dataTable) return;\n",
              "\n",
              "          const docLinkHtml = 'Like what you see? Visit the ' +\n",
              "            '<a target=\"_blank\" href=https://colab.research.google.com/notebooks/data_table.ipynb>data table notebook</a>'\n",
              "            + ' to learn more about interactive tables.';\n",
              "          element.innerHTML = '';\n",
              "          dataTable['output_type'] = 'display_data';\n",
              "          await google.colab.output.renderOutput(dataTable, element);\n",
              "          const docLink = document.createElement('div');\n",
              "          docLink.innerHTML = docLinkHtml;\n",
              "          element.appendChild(docLink);\n",
              "        }\n",
              "      </script>\n",
              "    </div>\n",
              "  </div>\n",
              "  "
            ]
          },
          "metadata": {},
          "execution_count": 17
        }
      ]
    },
    {
      "cell_type": "markdown",
      "source": [
        "Analysing Data\n"
      ],
      "metadata": {
        "id": "IDFPv9W3bAg-"
      }
    },
    {
      "cell_type": "code",
      "source": [
        "df['Reason'].value_counts()"
      ],
      "metadata": {
        "colab": {
          "base_uri": "https://localhost:8080/"
        },
        "id": "cJ6yP9GkP1od",
        "outputId": "a93e7c56-ce46-48c0-ac4b-6062550416f1"
      },
      "execution_count": null,
      "outputs": [
        {
          "output_type": "execute_result",
          "data": {
            "text/plain": [
              "No response from the customer           123\n",
              "Customer did not like the product        63\n",
              "Customer refused to accept               51\n",
              "No Response from the customer            46\n",
              "No Response from the Customer            45\n",
              "                                       ... \n",
              "Customer is not avalible                  1\n",
              "Out of station for extended duration      1\n",
              "Incorrect addres, no response             1\n",
              "Customer wants to cancel                  1\n",
              "Customer phone not reachable              1\n",
              "Name: Reason, Length: 335, dtype: int64"
            ]
          },
          "metadata": {},
          "execution_count": 18
        }
      ]
    },
    {
      "cell_type": "code",
      "source": [
        "df['Reason'].unique()"
      ],
      "metadata": {
        "colab": {
          "base_uri": "https://localhost:8080/"
        },
        "id": "ZuQgS2tG9IOf",
        "outputId": "89a7afaf-b155-43b0-8056-23ca90f10389"
      },
      "execution_count": null,
      "outputs": [
        {
          "output_type": "execute_result",
          "data": {
            "text/plain": [
              "array(['Customer cancelled the order', 'Customer is not responding',\n",
              "       'Bracelet is very tight', 'Customer refused to accept',\n",
              "       'Consignee Refused To Accept',\n",
              "       'Customer wants to cancel the order', 'Customer is out of station',\n",
              "       'Due to bad climate shipment undelivered',\n",
              "       'Customer didnot like the product quality',\n",
              "       'Consignee Refused To Accept ',\n",
              "       'Customer is not responding the call', 'Customer did not like ',\n",
              "       'Customer did not like the product', 'No Response',\n",
              "       'Customer requested for early delivery so order cancelled',\n",
              "       'Customer number is not reachable no response',\n",
              "       'Customer no longer need the product, order cancelled',\n",
              "       'Customer not available, No response from customer',\n",
              "       'No answer from the customer, No response',\n",
              "       'Does not want the product',\n",
              "       'Customer is out of station will order later',\n",
              "       'No answer from the customer',\n",
              "       'Customer requested to cancel the order',\n",
              "       'No Such Consignee At The Given Address',\n",
              "       'No response from the customer',\n",
              "       \"Customer doesn't want the prodcut\",\n",
              "       \"CUSTOMER DIDN'T LIKE THE PRODUCT\", 'Customer not responding',\n",
              "       'Customer has left for overseas',\n",
              "       'Customer will not be available  - reorder later',\n",
              "       'Not in station right now will order next month',\n",
              "       'Due to delay customer cancelled the order',\n",
              "       'Received by Narendar by BD - customer does not want the product',\n",
              "       'Customer out of station', 'Size issue',\n",
              "       'Customer wants same weight as mentioned in website',\n",
              "       'Customer disconnecting the call no answer',\n",
              "       'No Response from the customer',\n",
              "       \"Customer doesn't want the product, No response\",\n",
              "       'Customer requested for the earlier dispatch',\n",
              "       'Customer didnot like the product',\n",
              "       'Customer did not like the prodcut', 'Product is too small',\n",
              "       'Product is too small - Reverse pickup error',\n",
              "       'Order cancelled, Invoice created hence processed COD',\n",
              "       'Customer is out of station no response',\n",
              "       'Customer will place a order later',\n",
              "       'Customer no longer need the prodcut',\n",
              "       'Customer requested for open delivery', 'Consignee not available',\n",
              "       'Consignee Refused To Accept, No answer',\n",
              "       'Pendant loop is too big', 'Customer not available no responding',\n",
              "       'No answer from the customer no available',\n",
              "       'Premises Closed / No response', \"Order Cancelled - RTO'd\",\n",
              "       'Product looks different',\n",
              "       'No Answer from the customer, mail sent', 'Refused to accept',\n",
              "       'Someone has expired in customer family, No longer need the product',\n",
              "       'Exchange order customer refused to accept, requested money back for the old order Exceptional.',\n",
              "       'Customer did not like the quality',\n",
              "       'Customer no longer need to product',\n",
              "       'Due to delay customer refused to accept',\n",
              "       'Customer has ordered the same thing using the EMI option',\n",
              "       'Customer is not responding, delivery attempt twice',\n",
              "       'Financial problem, does not want now', 'Did not like design',\n",
              "       'No service area no response from the customer',\n",
              "       'Customer is not answering the call',\n",
              "       'Redispatch return no response from the customer Took COD Return - 12-Jan-15',\n",
              "       'Consignee not available after multiple trials',\n",
              "       'Customer Out of station ',\n",
              "       'Customer mobile swiched off no response', 'Number not connecting',\n",
              "       'Customer will place new order later', 'Order Cancelled',\n",
              "       'No Such Consignee At The Given Address / No response',\n",
              "       'Consignee not available after multiple trials / No response',\n",
              "       'cancelled/customer does not want the product',\n",
              "       'Customer bought some other product',\n",
              "       'Customer wants different design',\n",
              "       'Consignee Refused To Accept no answer',\n",
              "       'Order placed and dispatched for this same product.',\n",
              "       'Customer requested for store delivery but not responding to the calls',\n",
              "       'Customer has cancelled the order',\n",
              "       'Customer did not like the product quality',\n",
              "       'No response at all mail was also sent', 'Delay in delivery',\n",
              "       'No such consignee at the given address',\n",
              "       'Customer out of station - Order Cancelled',\n",
              "       'Consignee refused to accept / No response',\n",
              "       'Refused to accept / Disconnecting the call',\n",
              "       'Order cancelled - wanted early delivery',\n",
              "       'Order cancelled - Did not like the product',\n",
              "       'Customer is not available', 'Customer refused to accept (ashfaq)',\n",
              "       'Customer did not like the product due to price differents',\n",
              "       \"Size mismatch and didn't like the design\",\n",
              "       'No answer form the customer',\n",
              "       'No Proper response from the customer',\n",
              "       'Customer said she had placed it by mistake',\n",
              "       'Ordered lot of products - kept some products and returned few',\n",
              "       'No response at all', 'Did not like the product',\n",
              "       'Not as per website', 'No answer from the cusotmer',\n",
              "       'Customer requested to hold the delivery, and refused to accept',\n",
              "       'Order cancelled', 'No response / Customer OOS',\n",
              "       'Delayed delivery',\n",
              "       \"Exchange product customer doesn't likes it will place new order\",\n",
              "       'Incorrect address customer is no longer responding',\n",
              "       'Order cancelled due to delay',\n",
              "       'Customer no longer need the product', 'Customer is OOS',\n",
              "       'Product is not like in the website', 'Consignee Out Of Station',\n",
              "       'Customer not responding for the calls',\n",
              "       'Customer refused to accept the parcel',\n",
              "       'Wrong invoice genrated hence placed new order',\n",
              "       'Customer did not like the design',\n",
              "       'Order cancelled - No response',\n",
              "       'Customer refused to accept the product',\n",
              "       'No service area customer wants to cancel the order',\n",
              "       'Order Cancelled by the customer',\n",
              "       'not the product she ordered and also defective one',\n",
              "       'Customer does not wwant the product ', 'Customer OOS',\n",
              "       'Customer does not want the product',\n",
              "       'Customer is not answering the calls',\n",
              "       'Customer is not interested for now',\n",
              "       'Customer not answering the call',\n",
              "       'Customer refused to accept the swap product.',\n",
              "       'No response for the customer', 'No Answer from the customer',\n",
              "       'Customer is not responding after multiple try',\n",
              "       'Customer has placed the order wrongly',\n",
              "       'Consignee Not Available  No answer',\n",
              "       'No response from the customer No answer', 'Customer did not like',\n",
              "       'Stones are not visible', 'Customer is not responding any calls',\n",
              "       'Customer Out of Station', 'Not as per customer expectation',\n",
              "       \"Customer doesn't want the product\",\n",
              "       \"Customer doesn't require the product.\",\n",
              "       'Customer is OOS, No response',\n",
              "       \" Due to delay customer doesn't need the product\",\n",
              "       'Customer is not avalible', 'No response from the Customer',\n",
              "       'Customer bought an alternate product from other store',\n",
              "       'Out of station for extended duration',\n",
              "       'Incorrect addres, no response', 'Customer wants to cancel',\n",
              "       'Does not want the product ',\n",
              "       'Customer is not available OOS No response',\n",
              "       'Customer refused and no response', 'Customer is OOS, no response',\n",
              "       'Out of station for extended duration, No response',\n",
              "       'Consignee not available, no response',\n",
              "       'Customer is not happy with the product',\n",
              "       'Customer requested cancel the order',\n",
              "       'Customer telling he has not placed the order',\n",
              "       'Customer purchased from outside', 'Product looks like duplicate',\n",
              "       'Product is very small', 'Customer is in OOS',\n",
              "       'Customer OOS, No response from the customer',\n",
              "       \"No response from the customer, RTO'd\",\n",
              "       'Customer did not like the ring', 'Customer refunsed no response',\n",
              "       \"Customer has cancelled the order RTO'd\",\n",
              "       \"No response from the customer RTO'd\",\n",
              "       \"Customer refused to accept, RTO'd\",\n",
              "       'Customer refused to accept, no response',\n",
              "       'Product is not like in the image',\n",
              "       'Product is very smaller than the image',\n",
              "       'Product is not looks like rose gold',\n",
              "       'Customer did not like the finish', 'Customer not interested',\n",
              "       'Customer does not want the ring. Order placed by mistake',\n",
              "       'No Response / Consignee Refused To Accept',\n",
              "       'Customer is OOS and does not want the product',\n",
              "       'The piece was defective, Received as a repair and processed COD return',\n",
              "       'Consignee Refused To Accept, Customer number swiched off after multiple trails',\n",
              "       'Delivery Attempted-Premises Closed, No response',\n",
              "       'Customer refused to accept, No response from the customer',\n",
              "       'No response from the customer arranged RTO.',\n",
              "       \"No response from the customer product RTO'd\",\n",
              "       'Customer not responding any calls',\n",
              "       'No Response from the customer ', 'Product not like in the image',\n",
              "       'Not as expected', \"Customer doesn't need the product\",\n",
              "       'Late Delivery. Customer returned the product',\n",
              "       'No response from the customer Mail sent',\n",
              "       'Customer did not like the product and incorrect size',\n",
              "       'Customer not available, requested to cancel',\n",
              "       'Delivery Attempted-Premises Closed, No response from the customer',\n",
              "       'Consignee Refused To Accept, no longer need the product',\n",
              "       'Disappointed - she wanted open delivery on the same day ',\n",
              "       'Product not worth the cost', 'Customer do not want the product ',\n",
              "       'Customer will look for some other design in our store',\n",
              "       'Customer claims she has received it',\n",
              "       'Customer is not responding for any calls',\n",
              "       'Customer cancelled the order arranged RTO',\n",
              "       'Customer disconnecting the call, no response',\n",
              "       'Customer has bought a same chain in GK store',\n",
              "       'Customer requested for store delivery, no response from the customer',\n",
              "       'Customer not available, No response',\n",
              "       'Customer did not like the order',\n",
              "       'Customer refused to accept no response',\n",
              "       'Customer does not want it - will buy some other product',\n",
              "       'Csutomer does not want the product',\n",
              "       'Not in station will reorder later',\n",
              "       'Customer refused to accept, Already redispatch No response',\n",
              "       'Feels that the product is too small',\n",
              "       'Customer refused to accept, Not answering the call',\n",
              "       'Customer does not respond.', 'Customer is not picking up calls',\n",
              "       'customer has not been responding ',\n",
              "       'Received the product late, thus wishes to cancel the order',\n",
              "       'Customer cancelled the order and does not want the product',\n",
              "       'Customer did no like the products',\n",
              "       'Customer received the parcel opened refused to accept',\n",
              "       'Customer feels that the product is small for her',\n",
              "       'Customer wants the order to be cancelled',\n",
              "       'Customer wants to purchase something else ',\n",
              "       'Customer ordered the product justo to see it. it was done through Hand Delivery.',\n",
              "       'Customer has placed a different order of the same product using a promo code',\n",
              "       'Customer not interested to buy',\n",
              "       'Order as a gift and the occasion is over so shhe wants to cancel the order',\n",
              "       'Customer cancelled the order says she ordered just to see it physically',\n",
              "       'Order has been cancelled',\n",
              "       'Customer wants to cancel the order says it is out of his budget',\n",
              "       'Consignee out of station', 'Did not like the finishing',\n",
              "       'Customer feels that the ring looks like its for a Female but the ring was for a Male.',\n",
              "       'No Response from the customer / Switched off.',\n",
              "       'Customer does not want ',\n",
              "       'She was unhappy with the finishing of the product. She has returned the ring.',\n",
              "       'No Response from the customer / Phone Switched Off',\n",
              "       'Order Delayed. It was an Engagement Ring.', 'Customer refused',\n",
              "       'Customer will buy later',\n",
              "       'as the customer is not showing interest to purchase the product.',\n",
              "       'Customer is not interested to buy',\n",
              "       'No Response from the Customer', 'Customer does not want - Delay',\n",
              "       'Customer says he did not place an order ',\n",
              "       'Customer wants to cancel the order ',\n",
              "       'Customer doesnt need the product',\n",
              "       'No Response - Cancelled due to Incomplete Address',\n",
              "       'Customer is out of station, prefers to cancel the order',\n",
              "       \"Customer doesn't like the product\",\n",
              "       'Customer will reorder after 15 days - OOS. Cancel it.',\n",
              "       'Due to delay customer wants to cancel the order',\n",
              "       'Customer cancelled the order due to financial problem',\n",
              "       'Customer does not want it as he purchased it from outside',\n",
              "       'Customer number is not connecting',\n",
              "       'No Response / Phone number Switched off',\n",
              "       'Customer refused because of the delay in delivery',\n",
              "       'No Reponse / Ph number not reachable',\n",
              "       'No Response from the Customer / Number switched off',\n",
              "       'Order Cancelled / Customer wants to buy something else',\n",
              "       'Customer placed two orders by mistake.',\n",
              "       'Customer ordered only one product',\n",
              "       'Customer asked the picture of the earrings, we sent and she did not respond. Ph number switched off. ',\n",
              "       'Due to GWD placed a new order as alternate',\n",
              "       'Order Cancelled due to bad behavior from a BD Executive',\n",
              "       'Customer order something else', 'Will place a new order in 22K',\n",
              "       'Customer feels that the jewelery is expensive for her',\n",
              "       'Customer OOS and wants the order cancelled. Customer will come back and place a new order.',\n",
              "       'Customer wants the order cancelled',\n",
              "       'Customer wants to cancel due to late delivery', 'Size issues',\n",
              "       'Customer will purchase at Store',\n",
              "       'Customer is OOS, prefers to cancel the order',\n",
              "       'Wanted open delivery.',\n",
              "       'Customer did not like the bracelet and refused to accept the parcel',\n",
              "       'Customer OOS. Will place an order when she returns',\n",
              "       'Customer OOS and wants the orders cancelled',\n",
              "       'Customer cancelled order',\n",
              "       'Customer says that he has not purchased',\n",
              "       'No Response from the customer / Number not reachable',\n",
              "       'Delivery attemped just once and customer does not want the product as the date has passed.',\n",
              "       'Customer wants the order cancelled.',\n",
              "       'Customer felt that the chain was too thin and returned the product',\n",
              "       'Customer cancelled the Order',\n",
              "       'Customer cancelled the swap. Wants to keep old product itHub',\n",
              "       'Customer has refused', 'Fraudulent Transaction',\n",
              "       'Consignee Refused To Accept, No response from the customer',\n",
              "       'Customer did not like the quality of the product',\n",
              "       'Customer wishes to cancel the order',\n",
              "       'Customer placed a new order and wishes to cancel the order',\n",
              "       'Due to Late Delivery customer wants to cancel the order',\n",
              "       'Missed Engraving & wants to cancel the order due to delay',\n",
              "       'Customer ordered 3 products and chosed only 1',\n",
              "       'Customer wants the order cancelled ',\n",
              "       'No Response from the Customer ',\n",
              "       'Damaged product. Customer refused',\n",
              "       'Customer wanted open delivery', 'Customer wanted in 22K.',\n",
              "       'No Response from Customer', 'Out of deliver area.',\n",
              "       'Customer feels the product is too small',\n",
              "       'Sent an image to the customer, when called customer disconnected ',\n",
              "       'Customer refused to accept the Swap order', 'Due to delay',\n",
              "       'Delivery attempted maximum times and customer did not respond calls',\n",
              "       'Customer did not order, Cancelled.',\n",
              "       'No Response from the customer / Number Swiched off',\n",
              "       'Size is not as displayed in site',\n",
              "       'Order cancelled due to maximum attempts',\n",
              "       'Customer refused and placed different order.',\n",
              "       'Did not like the product.', 'Refused / No Response',\n",
              "       'Customer ordered 13 and accepted only 1 product. Customer says she ordered only to see.',\n",
              "       'Customer did not like the product.',\n",
              "       'As an exception, refund processed and this order is a COD return',\n",
              "       'Customer is not answering any call',\n",
              "       'No Resonse from the customer',\n",
              "       'Customer not interested, Cancelled ', 'Customer not interested.',\n",
              "       'Customer wants the Order Cancelled',\n",
              "       'No Respnse from the Customer',\n",
              "       'customer has placed order for some occasion and same has been delayed in delivery.',\n",
              "       'Size issues, does not suit the customer',\n",
              "       'customer did not like the product',\n",
              "       'As confirmed by Store Team. Product has a lot of defect.',\n",
              "       'Customer phone not reachable'], dtype=object)"
            ]
          },
          "metadata": {},
          "execution_count": 19
        }
      ]
    },
    {
      "cell_type": "code",
      "source": [
        "#checking for which delivery service more delivery issues are noted\n",
        "filter_value = 'Delay'\n",
        "filtered_data = df2[df2['Category'] == filter_value]\n",
        "ch_df= (filtered_data['Channel']).value_counts()\n",
        "ch_df"
      ],
      "metadata": {
        "colab": {
          "base_uri": "https://localhost:8080/"
        },
        "id": "7BzlHg6h79O-",
        "outputId": "5383357c-b0f6-44e7-9803-ef59bc45eff4"
      },
      "execution_count": null,
      "outputs": [
        {
          "output_type": "execute_result",
          "data": {
            "text/plain": [
              "Blue Dart      7\n",
              "Delhivery      6\n",
              "HUB            2\n",
              "Wow Express    2\n",
              "Sequel         1\n",
              "Name: Channel, dtype: int64"
            ]
          },
          "metadata": {},
          "execution_count": 39
        }
      ]
    },
    {
      "cell_type": "code",
      "source": [
        "ch_df.plot(kind= 'bar')"
      ],
      "metadata": {
        "colab": {
          "base_uri": "https://localhost:8080/",
          "height": 338
        },
        "id": "BbgS4NOFioGe",
        "outputId": "6a20c35e-93b4-4e08-bfbf-e02b030145f2"
      },
      "execution_count": null,
      "outputs": [
        {
          "output_type": "execute_result",
          "data": {
            "text/plain": [
              "<Axes: >"
            ]
          },
          "metadata": {},
          "execution_count": 43
        },
        {
          "output_type": "display_data",
          "data": {
            "text/plain": [
              "<Figure size 432x288 with 1 Axes>"
            ],
            "image/png": "[encoded data removed]"
          },
          "metadata": {
            "needs_background": "light"
          }
        }
      ]
    },
    {
      "cell_type": "code",
      "source": [
        "ch2_df= (df2['Channel']).value_counts()\n",
        "ch2_df.plot(kind = 'bar')"
      ],
      "metadata": {
        "colab": {
          "base_uri": "https://localhost:8080/",
          "height": 338
        },
        "id": "SL0rnYWGkRXm",
        "outputId": "f68f85f0-df90-4c23-da09-0bd8b181364f"
      },
      "execution_count": null,
      "outputs": [
        {
          "output_type": "execute_result",
          "data": {
            "text/plain": [
              "<Axes: >"
            ]
          },
          "metadata": {},
          "execution_count": 47
        },
        {
          "output_type": "display_data",
          "data": {
            "text/plain": [
              "<Figure size 432x288 with 1 Axes>"
            ],
            "image/png": "[encoded data removed]"
          },
          "metadata": {
            "needs_background": "light"
          }
        }
      ]
    },
    {
      "cell_type": "code",
      "source": [
        "#checking which delivery service is taking more days to deliver\n",
        "df2.plot(kind='bar',x='days_for_delivery')"
      ],
      "metadata": {
        "colab": {
          "base_uri": "https://localhost:8080/",
          "height": 306
        },
        "id": "9aEL1wHZbPgd",
        "outputId": "7535cf3a-3ab5-4bcf-f1b0-f3fe5232a74d"
      },
      "execution_count": null,
      "outputs": [
        {
          "output_type": "execute_result",
          "data": {
            "text/plain": [
              "<Axes: xlabel='days_for_delivery'>"
            ]
          },
          "metadata": {},
          "execution_count": 21
        },
        {
          "output_type": "display_data",
          "data": {
            "text/plain": [
              "<Figure size 432x288 with 1 Axes>"
            ],
            "image/png": "[encoded data removed]"
          },
          "metadata": {
            "needs_background": "light"
          }
        }
      ]
    },
    {
      "cell_type": "code",
      "source": [
        "channel_counts = {}\n",
        "for index, row in df2.iterrows():\n",
        "    if row['days_for_delivery'] > 21:\n",
        "        channel = row['Channel']\n",
        "        if channel not in channel_counts:\n",
        "            channel_counts[channel] = 1\n",
        "        else:\n",
        "            channel_counts[channel] += 1\n",
        "\n",
        "for channel, count in channel_counts.items():\n",
        "    print(f\" {channel} - {count} times.\")"
      ],
      "metadata": {
        "colab": {
          "base_uri": "https://localhost:8080/"
        },
        "id": "aQuwi91K6WT6",
        "outputId": "33a37517-6e77-43bd-8074-91695aa2b8c2"
      },
      "execution_count": null,
      "outputs": [
        {
          "output_type": "stream",
          "name": "stdout",
          "text": [
            " HUB - 66 times.\n",
            " Blue Dart - 68 times.\n",
            " Sequel - 28 times.\n",
            " Delhivery - 13 times.\n",
            " Wow Express - 23 times.\n",
            " - - 2 times.\n",
            " Wow express - 5 times.\n"
          ]
        }
      ]
    },
    {
      "cell_type": "code",
      "source": [
        "#checking which product category is having product issues more\n",
        "filter_value = 'Product Quality'\n",
        "filtered_data = df2[df2['Category'] == filter_value]\n",
        "pc_df = (filtered_data['Product Category']).value_counts()\n",
        "pc_df"
      ],
      "metadata": {
        "colab": {
          "base_uri": "https://localhost:8080/"
        },
        "id": "xUbqGKMkbW-Z",
        "outputId": "56ae6d9c-8f34-4ff2-eecd-1dfe7279bf57"
      },
      "execution_count": null,
      "outputs": [
        {
          "output_type": "execute_result",
          "data": {
            "text/plain": [
              "Studded Jewellery      12\n",
              "Unstudded Jewellery     1\n",
              "Name: Product Category, dtype: int64"
            ]
          },
          "metadata": {},
          "execution_count": 37
        }
      ]
    },
    {
      "cell_type": "code",
      "source": [
        "pc_df.plot(kind= 'bar')"
      ],
      "metadata": {
        "colab": {
          "base_uri": "https://localhost:8080/",
          "height": 375
        },
        "id": "YHm8KkA7f-xk",
        "outputId": "7343405b-e2b8-47f3-a2e8-b33cce9ea970"
      },
      "execution_count": null,
      "outputs": [
        {
          "output_type": "execute_result",
          "data": {
            "text/plain": [
              "<Axes: >"
            ]
          },
          "metadata": {},
          "execution_count": 38
        },
        {
          "output_type": "display_data",
          "data": {
            "text/plain": [
              "<Figure size 432x288 with 1 Axes>"
            ],
            "image/png": "[encoded data removed]"
          },
          "metadata": {
            "needs_background": "light"
          }
        }
      ]
    },
    {
      "cell_type": "code",
      "source": [
        "#checking which product type is having product issue more\n",
        "filter_value = 'Product Quality'\n",
        "filtered_data = df2[df2['Category'] == filter_value]\n",
        "pt_df =(filtered_data['Product Type']).value_counts()\n",
        "pt_df"
      ],
      "metadata": {
        "colab": {
          "base_uri": "https://localhost:8080/"
        },
        "id": "eBOObVJvbhIq",
        "outputId": "a7dacb11-f331-4785-872c-fdea5a158b63"
      },
      "execution_count": null,
      "outputs": [
        {
          "output_type": "execute_result",
          "data": {
            "text/plain": [
              "Bracelet     8\n",
              "Pendant      2\n",
              "Nose Pin     1\n",
              "Ring         1\n",
              "Necklace     1\n",
              "Name: Product Type, dtype: int64"
            ]
          },
          "metadata": {},
          "execution_count": 30
        }
      ]
    },
    {
      "cell_type": "code",
      "source": [
        "pt_df.plot(kind ='bar')"
      ],
      "metadata": {
        "colab": {
          "base_uri": "https://localhost:8080/",
          "height": 318
        },
        "id": "Wn2Lacb1doT-",
        "outputId": "5488f7f5-6b54-463f-8abf-350b76c3a3c1"
      },
      "execution_count": null,
      "outputs": [
        {
          "output_type": "execute_result",
          "data": {
            "text/plain": [
              "<Axes: >"
            ]
          },
          "metadata": {},
          "execution_count": 35
        },
        {
          "output_type": "display_data",
          "data": {
            "text/plain": [
              "<Figure size 432x288 with 1 Axes>"
            ],
            "image/png": "[encoded data removed]"
          },
          "metadata": {
            "needs_background": "light"
          }
        }
      ]
    },
    {
      "cell_type": "code",
      "source": [
        "#checking whether the same customer is cancelling the product multiple types\n",
        "df2['Customer'].value_counts()"
      ],
      "metadata": {
        "colab": {
          "base_uri": "https://localhost:8080/"
        },
        "id": "Z5S-2ZGJbpqi",
        "outputId": "e8bb9446-b246-4065-91ab-67c4c701d6d4"
      },
      "execution_count": null,
      "outputs": [
        {
          "output_type": "execute_result",
          "data": {
            "text/plain": [
              "shweta negi           10\n",
              "Rashmi Khan            9\n",
              "Dr. swati bhansali     6\n",
              "rashmi khan            6\n",
              "Ankit Agarwal          5\n",
              "                      ..\n",
              "Veena S Kumar          1\n",
              "Rita                   1\n",
              "K K Jain               1\n",
              "Shipra Sharma          1\n",
              "GARIMA GOYAL           1\n",
              "Name: Customer, Length: 803, dtype: int64"
            ]
          },
          "metadata": {},
          "execution_count": 26
        }
      ]
    },
    {
      "cell_type": "code",
      "source": [
        "# filtering the dataframe for the repeated value printing the corresponding value in other column along with repeating item\n",
        "i=0\n",
        "repeated_value = df['Customer'].value_counts()[df['Customer'].value_counts() > 3].index.tolist()[i]\n",
        "\n",
        "filtered_df = df[df['Customer'] == repeated_value]\n",
        "\n",
        "for index, row in filtered_df.iterrows():\n",
        "    print(f\"Repeating item: {repeated_value}, Corresponding value in Category: {row['Category']}\")\n",
        "   "
      ],
      "metadata": {
        "colab": {
          "base_uri": "https://localhost:8080/"
        },
        "id": "7gLAqoIvfPrD",
        "outputId": "bca8bf20-5b79-4322-8a90-98f8b324503f"
      },
      "execution_count": null,
      "outputs": [
        {
          "output_type": "stream",
          "name": "stdout",
          "text": [
            "Repeating item: shweta negi, Corresponding value in Category: Did not like\n",
            "Repeating item: shweta negi, Corresponding value in Category: No Response\n",
            "Repeating item: shweta negi, Corresponding value in Category: No Response\n",
            "Repeating item: shweta negi, Corresponding value in Category: Out of Station\n",
            "Repeating item: shweta negi, Corresponding value in Category: No Response\n",
            "Repeating item: shweta negi, Corresponding value in Category: No Response\n",
            "Repeating item: shweta negi, Corresponding value in Category: Out of Station\n",
            "Repeating item: shweta negi, Corresponding value in Category: No Response\n",
            "Repeating item: shweta negi, Corresponding value in Category: No Response\n",
            "Repeating item: shweta negi, Corresponding value in Category: Refused\n"
          ]
        }
      ]
    },
    {
      "cell_type": "code",
      "source": [
        "#checking whether is there any trend with pincode in cancelling\n",
        "pincode_counts = df.groupby('Pin Code')['Reason'].count().reset_index()\n",
        "pincode_counts.plot(kind='bar', x='Pin Code', y='Reason')"
      ],
      "metadata": {
        "colab": {
          "base_uri": "https://localhost:8080/",
          "height": 330
        },
        "id": "qRRMXRuCbzhP",
        "outputId": "8e583964-e5a9-4072-d945-e56e328d35de"
      },
      "execution_count": null,
      "outputs": [
        {
          "output_type": "execute_result",
          "data": {
            "text/plain": [
              "<Axes: xlabel='Pin Code'>"
            ]
          },
          "metadata": {},
          "execution_count": 28
        },
        {
          "output_type": "display_data",
          "data": {
            "text/plain": [
              "<Figure size 432x288 with 1 Axes>"
            ],
            "image/png": "[encoded data removed]"
          },
          "metadata": {
            "needs_background": "light"
          }
        }
      ]
    }
  ]
}